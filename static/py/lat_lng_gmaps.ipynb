{
 "cells": [
  {
   "cell_type": "code",
   "execution_count": 35,
   "id": "55b95b4f",
   "metadata": {},
   "outputs": [],
   "source": [
    "import pandas as pd\n",
    "import numpy as np\n",
    "import googlemaps\n",
    "import time\n",
    "import gmaps_key"
   ]
  },
  {
   "cell_type": "code",
   "execution_count": 36,
   "id": "6e9b3db9",
   "metadata": {},
   "outputs": [],
   "source": [
    "gmaps = googlemaps.Client(key=gmaps_key)"
   ]
  },
  {
   "cell_type": "code",
   "execution_count": 37,
   "id": "8c89a79b",
   "metadata": {},
   "outputs": [],
   "source": [
    "#geocode_result = gmaps.geocode('1600 Amphitheatre Parkway, Mountain View, CA')"
   ]
  },
  {
   "cell_type": "code",
   "execution_count": 38,
   "id": "de4e1cb6",
   "metadata": {},
   "outputs": [],
   "source": [
    "#print(geocode_result)"
   ]
  },
  {
   "cell_type": "code",
   "execution_count": 39,
   "id": "10bc2722",
   "metadata": {},
   "outputs": [],
   "source": [
    "#geocode = RateLimiter(locator.geocode, min_delay_seconds=1)"
   ]
  },
  {
   "cell_type": "code",
   "execution_count": 40,
   "id": "0f163c37",
   "metadata": {},
   "outputs": [],
   "source": [
    "df_aging = pd.read_csv('C:/Users/ryanj/github/aging/data/pastdue.csv')"
   ]
  },
  {
   "cell_type": "code",
   "execution_count": 41,
   "id": "cbf3c55f",
   "metadata": {},
   "outputs": [],
   "source": [
    "df_aging['long'] = \"\"\n",
    "df_aging['lat'] = \"\""
   ]
  },
  {
   "cell_type": "code",
   "execution_count": 42,
   "id": "67f1a60f",
   "metadata": {},
   "outputs": [],
   "source": [
    "df_aging['full_address'] = df_aging.address + \", \" + df_aging.city + \", \" + df_aging.country + \", \" + df_aging.postalcode"
   ]
  },
  {
   "cell_type": "code",
   "execution_count": 43,
   "id": "49417af2",
   "metadata": {},
   "outputs": [],
   "source": [
    "#df_aging['location'] = df_aging['full_address'].apply(geocode)"
   ]
  },
  {
   "cell_type": "code",
   "execution_count": 44,
   "id": "60375fd4",
   "metadata": {},
   "outputs": [],
   "source": [
    "def latlong(df):\n",
    "    for address in range(len(df['full_address'])):\n",
    "        try:\n",
    "            time.sleep(1) #to add delay in case of large dataframes\n",
    "            geocode_result = gmaps.geocode(df['full_address'][address])\n",
    "            df['lat'][address] = geocode_result[0]['geometry']['location']['lat']\n",
    "            df['long'][address] = geocode_result[0]['geometry']['location']['lng']\n",
    "        except IndexError:\n",
    "            return(\"Address was wrong...\")\n",
    "        except Exception as e:\n",
    "            return(\"Unexpected error occured.\", e)"
   ]
  },
  {
   "cell_type": "code",
   "execution_count": 45,
   "id": "8041f019",
   "metadata": {},
   "outputs": [
    {
     "name": "stderr",
     "output_type": "stream",
     "text": [
      "<ipython-input-44-79082a6047c7>:6: SettingWithCopyWarning: \n",
      "A value is trying to be set on a copy of a slice from a DataFrame\n",
      "\n",
      "See the caveats in the documentation: https://pandas.pydata.org/pandas-docs/stable/user_guide/indexing.html#returning-a-view-versus-a-copy\n",
      "  df['lat'][address] = geocode_result[0]['geometry']['location']['lat']\n",
      "<ipython-input-44-79082a6047c7>:7: SettingWithCopyWarning: \n",
      "A value is trying to be set on a copy of a slice from a DataFrame\n",
      "\n",
      "See the caveats in the documentation: https://pandas.pydata.org/pandas-docs/stable/user_guide/indexing.html#returning-a-view-versus-a-copy\n",
      "  df['long'][address] = geocode_result[0]['geometry']['location']['lng']\n"
     ]
    }
   ],
   "source": [
    "latlong(df_aging)"
   ]
  },
  {
   "cell_type": "code",
   "execution_count": 50,
   "id": "38410af4",
   "metadata": {},
   "outputs": [],
   "source": [
    "df_aging.to_csv('C:/Users/ryanj/github/aging/data/aging_output.csv')"
   ]
  },
  {
   "cell_type": "code",
   "execution_count": null,
   "id": "2a38a78b",
   "metadata": {},
   "outputs": [],
   "source": []
  }
 ],
 "metadata": {
  "kernelspec": {
   "display_name": "Python 3",
   "language": "python",
   "name": "python3"
  },
  "language_info": {
   "codemirror_mode": {
    "name": "ipython",
    "version": 3
   },
   "file_extension": ".py",
   "mimetype": "text/x-python",
   "name": "python",
   "nbconvert_exporter": "python",
   "pygments_lexer": "ipython3",
   "version": "3.8.8"
  }
 },
 "nbformat": 4,
 "nbformat_minor": 5
}
